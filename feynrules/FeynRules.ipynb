{
 "cells": [
  {
   "cell_type": "markdown",
   "metadata": {},
   "source": [
    "# From Theory to data: Part 1, FeynRules;"
   ]
  },
  {
   "cell_type": "markdown",
   "metadata": {},
   "source": [
    "First of all, what is FeynRules?\n",
    "A: from their webpage - FeynRules is a Mathematica® package that allows the calculation of Feynman rules in momentum space for any QFT physics model. The user needs to provide FeynRules with the minimal information required to describe the new model, contained in the so-called model-file. This information is then used to calculate the set of Feynman rules associated with the Lagrangian. The Feynman rules calculated by the code can then be used to implement the new physics model into other existing tools, such as MC generators. This is done via a set of interfaces which are developed together and maintained by the corresponding MC authors."
   ]
  },
  {
   "cell_type": "markdown",
   "metadata": {},
   "source": [
    "Why use FeynRules?\n",
    "Why not? its easy to use, has a pretty much all of the formats needed for MC events simulation, well at least the most used ones but there always some weirdos who use some fortran black magic and still get pretty much the same results without use anything i will discrebe here, but with much more effort, and people who use packages like SARAH or LANHEP, but we are not here to judge anyone."
   ]
  },
  {
   "cell_type": "markdown",
   "metadata": {},
   "source": [
    "There are some caviats, lets address the elephant in the room and say yes, we are going to use mathematica, yes the mathematica license it's not so accessible for everyone, but we still can got the license from universities(if you know what I mean, wink wink) where we work, right?"
   ]
  },
  {
   "cell_type": "markdown",
   "metadata": {},
   "source": [
    "How to Install FeynRules?\n",
    "Just donwload the package in the link: http://feynrules.irmp.ucl.ac.be/downloads/feynrules-current.tar.gz\n",
    "run $tar -xf feynrules-current.tar.gz \n",
    "I will have a new folder called feynrules-current, I'm assuming you are using any of your favorite linux distribution flavor and a mathematica already installed"
   ]
  }
 ],
 "metadata": {
  "kernelspec": {
   "display_name": "Python 2",
   "language": "python",
   "name": "python2"
  },
  "language_info": {
   "codemirror_mode": {
    "name": "ipython",
    "version": 2
   },
   "file_extension": ".py",
   "mimetype": "text/x-python",
   "name": "python",
   "nbconvert_exporter": "python",
   "pygments_lexer": "ipython2",
   "version": "2.7.12"
  }
 },
 "nbformat": 4,
 "nbformat_minor": 2
}
